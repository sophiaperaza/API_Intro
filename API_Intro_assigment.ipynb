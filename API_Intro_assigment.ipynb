{
  "nbformat": 4,
  "nbformat_minor": 0,
  "metadata": {
    "colab": {
      "name": "API_Intro_assigment",
      "provenance": [],
      "authorship_tag": "ABX9TyNhpRVxHIX0XSpN1b3lJE6/",
      "include_colab_link": true
    },
    "kernelspec": {
      "name": "python3",
      "display_name": "Python 3"
    },
    "language_info": {
      "name": "python"
    }
  },
  "cells": [
    {
      "cell_type": "markdown",
      "metadata": {
        "id": "view-in-github",
        "colab_type": "text"
      },
      "source": [
        "<a href=\"https://colab.research.google.com/github/sophiaperaza/API_Intro/blob/main/API_Intro_assigment.ipynb\" target=\"_parent\"><img src=\"https://colab.research.google.com/assets/colab-badge.svg\" alt=\"Open In Colab\"/></a>"
      ]
    },
    {
      "cell_type": "code",
      "metadata": {
        "id": "Kz6vDs_Imm19"
      },
      "source": [
        "#Import Libraries \n",
        "import requests"
      ],
      "execution_count": 5,
      "outputs": []
    },
    {
      "cell_type": "code",
      "metadata": {
        "id": "9jwC25YQyd2q"
      },
      "source": [
        "# The API we're connecting to is Lexigram, a NLP that extracts clinical concepts from text \n",
        "# First sign up with your email to gain access to the api key to access endpoints"
      ],
      "execution_count": null,
      "outputs": []
    },
    {
      "cell_type": "code",
      "metadata": {
        "id": "D-XJUz1Sz8NC"
      },
      "source": [
        "#Retrieve your API KEY from your user profile at https://app.lexigram.io"
      ],
      "execution_count": null,
      "outputs": []
    },
    {
      "cell_type": "code",
      "metadata": {
        "id": "9vN4_6e_3GKq"
      },
      "source": [
        "url = 'https://app.lexigram.io'"
      ],
      "execution_count": 14,
      "outputs": []
    },
    {
      "cell_type": "code",
      "metadata": {
        "id": "ZTOOtli80bl6"
      },
      "source": [
        "# Insert KEY \n",
        "apikey = \"bearer\" + \"INSERTHERE\""
      ],
      "execution_count": 50,
      "outputs": []
    },
    {
      "cell_type": "code",
      "metadata": {
        "id": "2eK0Yw_t2L_e"
      },
      "source": [
        "# Connect to API\n",
        "lexigram_response = requests.get(url, headers={'Authorization': apiKey})"
      ],
      "execution_count": 49,
      "outputs": []
    },
    {
      "cell_type": "code",
      "metadata": {
        "colab": {
          "base_uri": "https://localhost:8080/"
        },
        "id": "GgSpWhRy-YsM",
        "outputId": "bdc37d6e-43a2-4d88-d073-ede18c570ba4"
      },
      "source": [
        "# Confirm connection using status_code command \n",
        "lexigramresponse.status_code\n",
        "\n",
        "# We see that the status code is 200, which means everything went okay and results have been returned! "
      ],
      "execution_count": 33,
      "outputs": [
        {
          "output_type": "execute_result",
          "data": {
            "text/plain": [
              "200"
            ]
          },
          "metadata": {},
          "execution_count": 33
        }
      ]
    }
  ]
}